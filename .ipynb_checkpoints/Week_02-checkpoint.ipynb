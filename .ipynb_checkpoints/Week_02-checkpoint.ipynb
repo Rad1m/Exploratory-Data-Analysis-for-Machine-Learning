{
 "cells": [
  {
   "cell_type": "code",
   "execution_count": 7,
   "id": "bd67cb50-8f20-4111-a19a-b9989c04c0b0",
   "metadata": {
    "tags": []
   },
   "outputs": [
    {
     "name": "stdout",
     "output_type": "stream",
     "text": [
      "   Index          User Id First Name Last Name     Sex  \\\n",
      "0      1  88F7B33d2bcf9f5     Shelby   Terrell    Male   \n",
      "1      2  f90cD3E76f1A9b9    Phillip   Summers  Female   \n",
      "2      3  DbeAb8CcdfeFC2c   Kristine    Travis    Male   \n",
      "3      4  A31Bee3c201ef58    Yesenia  Martinez    Male   \n",
      "4      5  1bA7A3dc874da3c       Lori      Todd    Male   \n",
      "5      6  bfDD7CDEF5D865B       Erin       Day    Male   \n",
      "6      7  bE9EEf34cB72AF7  Katherine      Buck  Female   \n",
      "7      8  2EFC6A4e77FaEaC    Ricardo    Hinton    Male   \n",
      "8      9  baDcC4DeefD8dEB       Dave   Farrell    Male   \n",
      "9     10  8e4FB470FE19bF0     Isaiah     Downs    Male   \n",
      "\n",
      "                         Email                   Phone Date of birth  \\\n",
      "0         elijah57@example.net  001-084-906-7849x73518    1945-10-26   \n",
      "1        bethany14@example.com       214.112.6044x4913    1910-03-24   \n",
      "2        bthompson@example.com            277.609.7938    1992-07-02   \n",
      "3    kaitlinkaiser@example.com            584.094.6111    2017-08-03   \n",
      "4   buchananmanuel@example.net       689-207-3558x7233    1938-12-01   \n",
      "5          tconner@example.org   001-171-649-9856x5553    2015-10-28   \n",
      "6      conniecowan@example.com   +1-773-151-6685x49162    1989-01-22   \n",
      "7      wyattbishop@example.com  001-447-699-7998x88612    1924-03-26   \n",
      "8          nmccann@example.net      603-428-2429x27392    2018-10-06   \n",
      "9  virginiaterrell@example.org    +1-511-372-1544x8206    1964-09-20   \n",
      "\n",
      "                  Job Title  \n",
      "0           Games developer  \n",
      "1            Phytotherapist  \n",
      "2                 Homeopath  \n",
      "3         Market researcher  \n",
      "4        Veterinary surgeon  \n",
      "5  Waste management officer  \n",
      "6      Intelligence analyst  \n",
      "7            Hydrogeologist  \n",
      "8                    Lawyer  \n",
      "9            Engineer, site  \n"
     ]
    }
   ],
   "source": [
    "import pandas as pd\n",
    "filepath = 'people-100.csv'\n",
    "\n",
    "# Import data\n",
    "data = pd.read_csv(filepath)\n",
    "\n",
    "# Print a few rows\n",
    "print(data.iloc[:10])"
   ]
  },
  {
   "cell_type": "code",
   "execution_count": null,
   "id": "28a74281-7a90-4c42-a480-1e1799f4f1d8",
   "metadata": {},
   "outputs": [],
   "source": []
  },
  {
   "cell_type": "code",
   "execution_count": null,
   "id": "1b350424-744f-4475-b94d-c569a5ba972c",
   "metadata": {},
   "outputs": [],
   "source": []
  }
 ],
 "metadata": {
  "kernelspec": {
   "display_name": "Python 3 (ipykernel)",
   "language": "python",
   "name": "python3"
  },
  "language_info": {
   "codemirror_mode": {
    "name": "ipython",
    "version": 3
   },
   "file_extension": ".py",
   "mimetype": "text/x-python",
   "name": "python",
   "nbconvert_exporter": "python",
   "pygments_lexer": "ipython3",
   "version": "3.11.3"
  }
 },
 "nbformat": 4,
 "nbformat_minor": 5
}
